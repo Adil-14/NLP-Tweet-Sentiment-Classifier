{
 "cells": [
  {
   "cell_type": "code",
   "execution_count": 15,
   "metadata": {},
   "outputs": [
    {
     "name": "stdout",
     "output_type": "stream",
     "text": [
      "Requirement already satisfied: nltk in /opt/conda/lib/python3.11/site-packages (3.9.1)\n",
      "Requirement already satisfied: click in /opt/conda/lib/python3.11/site-packages (from nltk) (8.1.7)\n",
      "Requirement already satisfied: joblib in /opt/conda/lib/python3.11/site-packages (from nltk) (1.4.2)\n",
      "Requirement already satisfied: regex>=2021.8.3 in /opt/conda/lib/python3.11/site-packages (from nltk) (2024.9.11)\n",
      "Requirement already satisfied: tqdm in /opt/conda/lib/python3.11/site-packages (from nltk) (4.66.4)\n",
      "\n",
      "\u001b[1m[\u001b[0m\u001b[34;49mnotice\u001b[0m\u001b[1;39;49m]\u001b[0m\u001b[39;49m A new release of pip is available: \u001b[0m\u001b[31;49m24.1.2\u001b[0m\u001b[39;49m -> \u001b[0m\u001b[32;49m24.3.1\u001b[0m\n",
      "\u001b[1m[\u001b[0m\u001b[34;49mnotice\u001b[0m\u001b[1;39;49m]\u001b[0m\u001b[39;49m To update, run: \u001b[0m\u001b[32;49mpip install --upgrade pip\u001b[0m\n",
      "Note: you may need to restart the kernel to use updated packages.\n"
     ]
    }
   ],
   "source": [
    "pip install nltk"
   ]
  },
  {
   "cell_type": "code",
   "execution_count": 16,
   "metadata": {},
   "outputs": [],
   "source": [
    "import csv                               # csv reader\n",
    "from sklearn.svm import LinearSVC\n",
    "from nltk.classify import SklearnClassifier\n",
    "from sklearn.pipeline import Pipeline\n",
    "from sklearn.metrics import precision_recall_fscore_support # to report on precision and recall\n",
    "import numpy as np"
   ]
  },
  {
   "cell_type": "code",
   "execution_count": 17,
   "metadata": {},
   "outputs": [],
   "source": [
    "def load_data(path):\n",
    "    \"\"\"Load data from a tab-separated file and append it to raw_data.\"\"\"\n",
    "    with open(path) as f:\n",
    "        reader = csv.reader(f, delimiter='\\t')\n",
    "        for line in reader:\n",
    "            if line[0] == \"Id\":  # skip header\n",
    "                continue\n",
    "            (label, text) = parse_data_line(line)\n",
    "            raw_data.append((text, label))\n",
    "\n",
    "def split_and_preprocess_data(percentage):\n",
    "    \"\"\"Split the data between train_data and test_data according to the percentage\n",
    "    and performs the preprocessing.\"\"\"\n",
    "    num_samples = len(raw_data)\n",
    "    num_training_samples = int((percentage * num_samples))\n",
    "    for (text, label) in raw_data[:num_training_samples]:\n",
    "        train_data.append((to_feature_vector(pre_process(text)),label))\n",
    "    for (text, label) in raw_data[num_training_samples:]:\n",
    "        test_data.append((to_feature_vector(pre_process(text)),label))"
   ]
  },
  {
   "cell_type": "markdown",
   "metadata": {},
   "source": [
    "# Preprocessing"
   ]
  },
  {
   "cell_type": "code",
   "execution_count": 18,
   "metadata": {},
   "outputs": [],
   "source": [
    "def parse_data_line(data_line):\n",
    "    label = data_line[1].strip()\n",
    "    text = data_line[2].strip()\n",
    "    return (label, text)"
   ]
  },
  {
   "cell_type": "code",
   "execution_count": 19,
   "metadata": {},
   "outputs": [
    {
     "name": "stdout",
     "output_type": "stream",
     "text": [
      "label: positive\n",
      "tokens: ['i', 'believe', 'this', 'is', 'great', 'for', 'me!']\n"
     ]
    }
   ],
   "source": [
    "data_line = [\"410734138242126311\", \"positive\", \"I believe this is great for me!\"]\n",
    "\n",
    "label, text = parse_data_line(data_line)\n",
    "\n",
    "def pre_process(text):\n",
    "    tokens = text.lower().split()\n",
    "    # This method transforms the text to lowercase and splits each word into tokens which can be seen printed below. \n",
    "    return tokens  # Changed [tokens] to tokens\n",
    "\n",
    "tokens = pre_process(text)\n",
    "print(\"label:\", label)\n",
    "print(\"tokens:\", tokens)\n"
   ]
  },
  {
   "cell_type": "markdown",
   "metadata": {},
   "source": [
    "# Feature Extraction"
   ]
  },
  {
   "cell_type": "code",
   "execution_count": 20,
   "metadata": {},
   "outputs": [
    {
     "name": "stdout",
     "output_type": "stream",
     "text": [
      "Feature vector: {'I': 1, 'believe': 1, 'this': 1, 'is': 1, 'great': 1, 'for': 1, 'me': 1}\n",
      "Global feature dictionary: {'I': 1, 'believe': 2, 'this': 3, 'is': 4, 'great': 5, 'for': 6, 'me': 7}\n"
     ]
    }
   ],
   "source": [
    "global_feature_dict = {} # Global dictionary of words encountered from all processed text\n",
    "\n",
    "# The goal of the below fucntion is \n",
    "\n",
    "def to_feature_vector(tokens):\n",
    "    featureVector = {} # Local feature dictionary that stores a set of tokens\n",
    "    for t in tokens:\n",
    "        featureVector[t] = 1 # If the token is present give a value of 1 (Binary occurrence) \n",
    "#Below is adding any new token not currently in the global dictionary to it & giving it a unique index        \n",
    "        if t not in global_feature_dict:\n",
    "            global_feature_dict[t] = len(global_feature_dict) + 1\n",
    "\n",
    "    return featureVector # returning the local feature vector whilst showing which tokens are present in this text.\n",
    "\n",
    "# Example set of tokens from a preprocessed text\n",
    "tokens = [\"I\",\"believe\",\"this\",\"is\",\"great\",\"for\",\"me\"]\n",
    "\n",
    "# Generating the feature vector\n",
    "featureVector = to_feature_vector(tokens) \n",
    "\n",
    "# Printing the feature vector to inspect the output\n",
    "print(\"Feature vector:\", featureVector)  \n",
    "\n",
    "# Printing the global feature dictionary to see the unique ids for each token\n",
    "print(\"Global feature dictionary:\", global_feature_dict)\n"
   ]
  },
  {
   "cell_type": "code",
   "execution_count": 21,
   "metadata": {},
   "outputs": [],
   "source": [
    "# TRAINING AND VALIDATING OUR CLASSIFIER\n",
    "\n",
    "def train_classifier(data):\n",
    "    print(\"Training Classifier...\")\n",
    "    pipeline =  Pipeline([('svc', LinearSVC())])\n",
    "    return SklearnClassifier(pipeline).train(data)"
   ]
  },
  {
   "cell_type": "markdown",
   "metadata": {},
   "source": [
    "# Cross-validation"
   ]
  },
  {
   "cell_type": "code",
   "execution_count": 22,
   "metadata": {},
   "outputs": [],
   "source": [
    "#solution\n",
    "\n",
    "# From the sklearn library we are using the functions imported below to retrieve the metrics, precision, recall, f1 score & accuracy \n",
    "from sklearn.metrics import classification_report, precision_score, f1_score, recall_score, accuracy_score\n",
    "\n",
    "# The Cross_validate function performs a k-folds-cross-validation on the data and calculates the metrics for each fold\n",
    "def cross_validate(dataset, folds=10):\n",
    "\n",
    "# The dictionary named cv_results stores the cumulative results for each metric across all folds, eventually intending to hold the average for each metric      \n",
    "    cv_results = {\n",
    "        \"precision\": 0,\n",
    "        \"recall\": 0,\n",
    "        \"f1_score\": 0,\n",
    "        \"accuracy\": 0    \n",
    "    }\n",
    "\n",
    "# fold_ size dictates the number of samples per fold, with the + 1 ensuring every fold has at least one sample\n",
    "    fold_size = int(len(dataset) / folds) + 1\n",
    "\n",
    "# The for loop looks to iterate through the dataset in increments of fold size, i marks the start of each fold    \n",
    "    for i in range(0, len(dataset), fold_size):\n",
    "# Validation_data, consists of the samples in the current fold\n",
    "# Training_data, consists of the combination of all other samples outside the current fold\n",
    "        validation_data = dataset[i:i + fold_size]\n",
    "        training_data = dataset[:i] + dataset[i + fold_size:]\n",
    "        \n",
    "# Training the classifier on the training data, using the function train_classifier\n",
    "        classifier = train_classifier(training_data)\n",
    "        \n",
    "# Preparing the validation data\n",
    "        validation_samples = [sample[0] for sample in validation_data] # Extracts feature vector from validation data\n",
    "        validation_labels = [sample[1] for sample in validation_data]  # Extracts the labels\n",
    "# The predict labels function helps  generate predictions on the validation samples using the trained classifier        \n",
    "        predictions = predict_labels(validation_samples, classifier)\n",
    "        \n",
    "# Calculate metrics for the current fold, precision, recall, f1_score, and accuracy (The average = 'macro' calculates the metric and averages them, while zero_division is used to help prevent errors by setting the metric to zero when there are no predicted samples)\n",
    "        fold_precision = precision_score(validation_labels, predictions, average='macro', zero_division=0)\n",
    "        fold_recall = recall_score(validation_labels, predictions, average='macro', zero_division=0)\n",
    "        fold_f1score = f1_score(validation_labels, predictions, average='macro', zero_division=0)\n",
    "        fold_accuracy = accuracy_score(validation_labels, predictions)\n",
    "\n",
    "# Accumulating the fold results\n",
    "        cv_results[\"precision\"] += fold_precision\n",
    "        cv_results[\"recall\"] += fold_recall \n",
    "        cv_results[\"f1_score\"] += fold_f1score\n",
    "        cv_results[\"accuracy\"] += fold_accuracy\n",
    "        \n",
    "        print(f\"Fold {i // fold_size + 1} - Precision: {fold_precision:.4f}, Recall: {fold_recall:.4f}, F1 Score: {fold_f1score:.4f}, Accuracy: {fold_accuracy:.4f}\")\n",
    "    \n",
    "# Computing the average for each metric by dividing by the number of folds.\n",
    "    for metric in cv_results:\n",
    "        cv_results[metric] /= folds\n",
    "\n",
    "    return cv_results"
   ]
  },
  {
   "cell_type": "code",
   "execution_count": 23,
   "metadata": {},
   "outputs": [],
   "source": [
    "# PREDICTING LABELS GIVEN A CLASSIFIER\n",
    "\n",
    "def predict_labels(samples, classifier):\n",
    "    \"\"\"Assuming preprocessed samples, return their predicted labels from the classifier model.\"\"\"\n",
    "    return classifier.classify_many(samples)\n",
    "\n",
    "def predict_label_from_raw(sample, classifier):\n",
    "    \"\"\"Assuming raw text, return its predicted label from the classifier model.\"\"\"\n",
    "    return classifier.classify(to_feature_vector(preProcess(reviewSample)))"
   ]
  },
  {
   "cell_type": "code",
   "execution_count": 24,
   "metadata": {},
   "outputs": [
    {
     "name": "stdout",
     "output_type": "stream",
     "text": [
      "Now 0 rawData, 0 trainData, 0 testData\n",
      "Preparing the dataset...\n",
      "Now 33540 rawData, 0 trainData, 0 testData\n",
      "Preparing training and test data...\n",
      "After split, 33540 rawData, 26832 trainData, 6708 testData\n",
      "Training Samples: \n",
      "26832\n",
      "Features: \n",
      "91359\n"
     ]
    }
   ],
   "source": [
    "# MAIN\n",
    "\n",
    "# loading reviews\n",
    "# initialize global lists that will be appended to by the methods below\n",
    "raw_data = []          # the filtered data from the dataset file\n",
    "train_data = []        # the pre-processed training data as a percentage of the total dataset\n",
    "test_data = []         # the pre-processed test data as a percentage of the total dataset\n",
    "\n",
    "\n",
    "# references to the data files\n",
    "data_file_path = 'sentiment-dataset.tsv'\n",
    "\n",
    "# Do the actual stuff (i.e. call the functions we've made)\n",
    "# We parse the dataset and put it in a raw data list\n",
    "print(\"Now %d rawData, %d trainData, %d testData\" % (len(raw_data), len(train_data), len(test_data)),\n",
    "      \"Preparing the dataset...\",sep='\\n')\n",
    "\n",
    "load_data(data_file_path) \n",
    "\n",
    "# We split the raw dataset into a set of training data and a set of test data (80/20)\n",
    "# You do the cross validation on the 80% (training data)\n",
    "# We print the number of training samples and the number of features before the split\n",
    "print(\"Now %d rawData, %d trainData, %d testData\" % (len(raw_data), len(train_data), len(test_data)),\n",
    "      \"Preparing training and test data...\",sep='\\n')\n",
    "\n",
    "split_and_preprocess_data(0.8)\n",
    "\n",
    "# We print the number of training samples and the number of features after the split\n",
    "print(\"After split, %d rawData, %d trainData, %d testData\" % (len(raw_data), len(train_data), len(test_data)),\n",
    "      \"Training Samples: \", len(train_data), \"Features: \", len(global_feature_dict), sep='\\n')\n"
   ]
  },
  {
   "cell_type": "code",
   "execution_count": 25,
   "metadata": {},
   "outputs": [
    {
     "name": "stdout",
     "output_type": "stream",
     "text": [
      "Training Classifier...\n",
      "Fold 1 - Precision: 0.8246, Recall: 0.8146, F1 Score: 0.8192, Accuracy: 0.8491\n",
      "Training Classifier...\n",
      "Fold 2 - Precision: 0.7683, Recall: 0.7621, F1 Score: 0.7651, Accuracy: 0.8402\n",
      "Training Classifier...\n",
      "Fold 3 - Precision: 0.7827, Recall: 0.7816, F1 Score: 0.7822, Accuracy: 0.7932\n",
      "Training Classifier...\n",
      "Fold 4 - Precision: 0.8436, Recall: 0.8421, F1 Score: 0.8422, Accuracy: 0.8424\n",
      "Training Classifier...\n",
      "Fold 5 - Precision: 0.8162, Recall: 0.8049, F1 Score: 0.8099, Accuracy: 0.8316\n",
      "Training Classifier...\n",
      "Fold 6 - Precision: 0.8404, Recall: 0.8216, F1 Score: 0.8294, Accuracy: 0.8495\n",
      "Training Classifier...\n",
      "Fold 7 - Precision: 0.8336, Recall: 0.8196, F1 Score: 0.8258, Accuracy: 0.8480\n",
      "Training Classifier...\n",
      "Fold 8 - Precision: 0.8230, Recall: 0.8078, F1 Score: 0.8144, Accuracy: 0.8376\n",
      "Training Classifier...\n",
      "Fold 9 - Precision: 0.8306, Recall: 0.8164, F1 Score: 0.8226, Accuracy: 0.8443\n",
      "Training Classifier...\n",
      "Fold 10 - Precision: 0.8309, Recall: 0.8188, F1 Score: 0.8242, Accuracy: 0.8434\n"
     ]
    },
    {
     "data": {
      "text/plain": [
       "{'precision': np.float64(0.8193813524160024),\n",
       " 'recall': np.float64(0.8089548756858059),\n",
       " 'f1_score': np.float64(0.8135072674208077),\n",
       " 'accuracy': 0.8379190530609335}"
      ]
     },
     "execution_count": 25,
     "metadata": {},
     "output_type": "execute_result"
    }
   ],
   "source": [
    "cross_validate(train_data, 10)  # will work and output overall performance of p, r, f-score when cv implemented"
   ]
  },
  {
   "cell_type": "markdown",
   "metadata": {},
   "source": [
    "# Error Analysis"
   ]
  },
  {
   "cell_type": "code",
   "execution_count": 26,
   "metadata": {},
   "outputs": [
    {
     "name": "stdout",
     "output_type": "stream",
     "text": [
      "Training Classifier...\n"
     ]
    },
    {
     "data": {
      "image/png": "[encoded data removed]",
      "text/plain": [
       "<Figure size 1000x1000 with 2 Axes>"
      ]
     },
     "metadata": {},
     "output_type": "display_data"
    }
   ],
   "source": [
    "from sklearn import metrics\n",
    "import matplotlib.pyplot as plt\n",
    "# a function to make the confusion matrix readable and pretty\n",
    "def confusion_matrix_heatmap(y_test, preds, labels):\n",
    "    \"\"\"Function to plot a confusion matrix\"\"\"\n",
    "    # pass labels to the confusion matrix function to ensure right order\n",
    "    # cm = metrics.confusion_matrix(y_test, preds, labels)\n",
    "    cm = metrics.confusion_matrix(y_test, preds, labels=labels)\n",
    "    fig = plt.figure(figsize=(10,10))\n",
    "    ax = fig.add_subplot(111)\n",
    "    cax = ax.matshow(cm)\n",
    "    plt.title('Confusion matrix of the classifier')\n",
    "    fig.colorbar(cax)\n",
    "    ax.set_xticks(np.arange(len(labels)))\n",
    "    ax.set_yticks(np.arange(len(labels)))\n",
    "    ax.set_xticklabels( labels, rotation=45)\n",
    "    ax.set_yticklabels( labels)\n",
    "\n",
    "    for i in range(len(cm)):\n",
    "        for j in range(len(cm)):\n",
    "            text = ax.text(j, i, cm[i, j],\n",
    "                           ha=\"center\", va=\"center\", color=\"w\")\n",
    "\n",
    "    plt.xlabel('Predicted')\n",
    "    plt.ylabel('True')\n",
    "    \n",
    "    # fix for mpl bug that cuts off top/bottom of seaborn viz:\n",
    "    b, t = plt.ylim() # discover the values for bottom and top\n",
    "    b += 0.5 # Add 0.5 to the bottom\n",
    "    t -= 0.5 # Subtract 0.5 from the top\n",
    "    plt.ylim(b, t) # update the ylim(bottom, top) values\n",
    "    plt.show() # ta-da!\n",
    "    plt.show()\n",
    "\n",
    "# Extract true labels and feature vectors from test data\n",
    "y_test = [label for _, label in test_data]  # True labels\n",
    "X_test = [features for features, _ in test_data]  # Feature vectors\n",
    "\n",
    "# Train classifier and generate predictions\n",
    "classifier = train_classifier(train_data)  # Train classifier\n",
    "preds = predict_labels(X_test, classifier)  # Generate predictions\n",
    "\n",
    "# Plot the confusion matrix\n",
    "confusion_matrix_heatmap(y_test, preds, labels=[\"positive\", \"negative\"])"
   ]
  },
  {
   "cell_type": "code",
   "execution_count": 27,
   "metadata": {},
   "outputs": [
    {
     "name": "stdout",
     "output_type": "stream",
     "text": [
      "Confusion Matrix:\n",
      " [[3930  453]\n",
      " [ 593 1732]]\n",
      "Error analysis saved to 'error_analysis_output.txt'.\n"
     ]
    }
   ],
   "source": [
    "from sklearn.metrics import confusion_matrix\n",
    "\n",
    "# Prepare test samples and labels\n",
    "test_samples = [sample[0] for sample in test_data]\n",
    "test_labels = [sample[1] for sample in test_data]\n",
    "\n",
    "# Generate predictions\n",
    "predictions = predict_labels(test_samples, classifier)\n",
    "\n",
    "# Calculate confusion matrix and display\n",
    "conf_matrix = confusion_matrix(test_labels, predictions, labels=[\"positive\", \"negative\"])\n",
    "print(\"Confusion Matrix:\\n\", conf_matrix)\n",
    "\n",
    "# Find false positives and false negatives\n",
    "false_positives = [(text, true, pred) for text, true, pred in zip(test_samples, test_labels, predictions)\n",
    "                   if pred == \"positive\" and true == \"negative\"]\n",
    "false_negatives = [(text, true, pred) for text, true, pred in zip(test_samples, test_labels, predictions)\n",
    "                   if pred == \"negative\" and true == \"positive\"]\n",
    "\n",
    "# Save errors to file\n",
    "with open(\"error_analysis_output.txt\", \"w\") as f:\n",
    "    f.write(\"False Positives:\\n\")\n",
    "    for fp in false_positives:\n",
    "        f.write(f\"Text: {fp[0]}, Actual: {fp[1]}, Predicted: {fp[2]}\\n\")\n",
    "    f.write(\"\\nFalse Negatives:\\n\")\n",
    "    for fn in false_negatives:\n",
    "        f.write(f\"Text: {fn[0]}, Actual: {fn[1]}, Predicted: {fn[2]}\\n\")\n",
    "\n",
    "print(\"Error analysis saved to 'error_analysis_output.txt'.\")\n"
   ]
  },
  {
   "cell_type": "markdown",
   "metadata": {},
   "source": [
    "# Optimising pre-processing and feature extraction"
   ]
  },
  {
   "cell_type": "code",
   "execution_count": 14,
   "metadata": {},
   "outputs": [
    {
     "name": "stdout",
     "output_type": "stream",
     "text": [
      "({'tomorrow': 1, \"we'll\": 1, 'release': 1, 'our': 1, '58th': 1, 'episode': 1, 'of': 1, '#hsonair': 1, 'profiling': 1, 'very': 1, 'own': 1, '@alissadossantos': 1, '!': 1, 'talk': 1, 'about': 1, 'storytelling': 1, 'and': 1, 'beyonce!': 1}, 'positive')\n",
      "Training Classifier...\n",
      "Done training!\n",
      "Precision: 0.842476\n",
      "Recall: 0.844067\n",
      "F Score:0.842872\n"
     ]
    }
   ],
   "source": [
    "# Finally, check the accuracy of your classifier by training on all the traning data\n",
    "# and testing on the test set\n",
    "# Will only work once all functions are complete\n",
    "functions_complete = True  # set to True once you're happy with your methods for cross val\n",
    "if functions_complete:\n",
    "    print(test_data[0])   # have a look at the first test data instance\n",
    "    classifier = train_classifier(train_data)  # train the classifier\n",
    "    test_true = [t[1] for t in test_data]   # get the ground-truth labels from the data\n",
    "    test_pred = predict_labels([x[0] for x in test_data], classifier)  # classify the test data to get predicted labels\n",
    "    final_scores = precision_recall_fscore_support(test_true, test_pred, average='weighted') # evaluate\n",
    "    print(\"Done training!\")\n",
    "    print(\"Precision: %f\\nRecall: %f\\nF Score:%f\" % final_scores[:3])"
   ]
  },
  {
   "cell_type": "code",
   "execution_count": null,
   "metadata": {},
   "outputs": [],
   "source": []
  }
 ],
 "metadata": {
  "kernelspec": {
   "display_name": "Python 3 (ipykernel)",
   "language": "python",
   "name": "python3"
  },
  "language_info": {
   "codemirror_mode": {
    "name": "ipython",
    "version": 3
   },
   "file_extension": ".py",
   "mimetype": "text/x-python",
   "name": "python",
   "nbconvert_exporter": "python",
   "pygments_lexer": "ipython3",
   "version": "3.12.4"
  }
 },
 "nbformat": 4,
 "nbformat_minor": 4
}
